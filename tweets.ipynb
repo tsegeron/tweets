{
 "cells": [
  {
   "cell_type": "code",
   "execution_count": 1,
   "id": "24019e39",
   "metadata": {},
   "outputs": [
    {
     "name": "stdout",
     "output_type": "stream",
     "text": [
      "processedNegative.csv processedNeutral.csv  processedPositive.csv\r\n"
     ]
    }
   ],
   "source": [
    "!ls ./data/"
   ]
  },
  {
   "cell_type": "markdown",
   "id": "7ba3d9fd",
   "metadata": {},
   "source": [
    "> Accuracy goal on a test dataset > 0.873"
   ]
  },
  {
   "cell_type": "markdown",
   "id": "7b6f9a15",
   "metadata": {},
   "source": [
    "# Imports\n",
    "---"
   ]
  },
  {
   "cell_type": "code",
   "execution_count": 2,
   "id": "ae5f6395",
   "metadata": {},
   "outputs": [],
   "source": [
    "import pandas as pd\n",
    "import string\n",
    "import re\n",
    "\n",
    "from sklearn.linear_model import LinearRegression\n",
    "from sklearn.model_selection import train_test_split\n",
    "from sklearn.metrics import accuracy_score, precision_score, recall_score\n",
    "from sklearn.feature_extraction.text import TfidfVectorizer\n",
    "\n",
    "from nltk.stem import SnowballStemmer, PorterStemmer, WordNetLemmatizer\n",
    "from nltk.corpus import stopwords\n",
    "\n",
    "import unidecode\n",
    "import contractions\n",
    "# from word2number import w2n"
   ]
  },
  {
   "cell_type": "code",
   "execution_count": 3,
   "id": "5fcf2385",
   "metadata": {},
   "outputs": [],
   "source": [
    "negative_tw = pd.read_csv('data/processedNegative.csv')\n",
    "neutral_tw = pd.read_csv('data/processedNeutral.csv')\n",
    "positive_tw = pd.read_csv('data/processedPositive.csv')"
   ]
  },
  {
   "cell_type": "code",
   "execution_count": 4,
   "id": "0eb1b41b",
   "metadata": {},
   "outputs": [],
   "source": [
    "set_of_stopwords = set(stopwords.words('english'))"
   ]
  },
  {
   "cell_type": "markdown",
   "id": "829c0ef5",
   "metadata": {},
   "source": [
    "# Preproccessing\n",
    "---"
   ]
  },
  {
   "cell_type": "code",
   "execution_count": 5,
   "id": "ea4b005f",
   "metadata": {},
   "outputs": [],
   "source": [
    "def remove_accented_chars(text):\n",
    "    \"\"\"\n",
    "    Removes accented chars\n",
    "    Ex.: cafè --> cafe\n",
    "    \"\"\"\n",
    "    return unidecode.unidecode(text)"
   ]
  },
  {
   "cell_type": "code",
   "execution_count": 6,
   "id": "90b27ab5",
   "metadata": {},
   "outputs": [],
   "source": [
    "def expand_contractions(text):\n",
    "    \"\"\"\n",
    "    Expands abbreviated words\n",
    "    Ex.: don't --> do not\n",
    "    \"\"\"\n",
    "    return contractions.fix(text)"
   ]
  },
  {
   "cell_type": "code",
   "execution_count": 15,
   "id": "a711dbf6",
   "metadata": {},
   "outputs": [],
   "source": [
    "def preprocess_text(text, stemming=None, lemmatization=False, misspellings=False):\n",
    "    # removing everything except words\n",
    "    text = re.sub('[^A-Za-z ]', '', text).lower()\n",
    "\n",
    "    if misspellings:\n",
    "        text = re.sub('.{3,}', '', text)\n",
    "    \n",
    "    # removing accented chars, expanding contractions, splitting into words\n",
    "    words = expand_contractions(remove_accented_chars(text)).split()\n",
    "    # removing stopwords\n",
    "    words = [w for w in words if w not in set_of_stopwords]\n",
    "    \n",
    "    if lemmatization:\n",
    "        lemmatizer = WordNetLemmatizer()\n",
    "        words = [lemmatizer.lemmatize(w) for w in words]\n",
    "    \n",
    "    if stemming:\n",
    "        if stemming.lower() == 'snowball':\n",
    "            stemmer = SnowballStemmer(language='english')\n",
    "        else:\n",
    "            stemmer = PorterStemmer()\n",
    "        words = [stemmer.stem(w) for w in words]\n",
    "        \n",
    "    \n",
    "    return words"
   ]
  },
  {
   "cell_type": "code",
   "execution_count": 18,
   "id": "85a4002a",
   "metadata": {},
   "outputs": [
    {
     "data": {
      "text/plain": [
       "['riverdale', 'tonight', 'unhappy', 'sings', 'cared', 'singing', 'foot', 'bat']"
      ]
     },
     "execution_count": 18,
     "metadata": {},
     "output_type": "execute_result"
    }
   ],
   "source": [
    "preprocess_text('Riverdale tonight ? 12 (( unhappy sings cared singing feet bats', lemmatization=True)"
   ]
  },
  {
   "cell_type": "code",
   "execution_count": 54,
   "id": "f341aa7e",
   "metadata": {},
   "outputs": [
    {
     "data": {
      "text/plain": [
       "[]"
      ]
     },
     "execution_count": 54,
     "metadata": {},
     "output_type": "execute_result"
    }
   ],
   "source": [
    "tmp = re.findall(\"([a-z])\\0{2,}\", 'unhapppyy atttracted')\n",
    "tmp"
   ]
  }
 ],
 "metadata": {
  "kernelspec": {
   "display_name": "Python 3 (ipykernel)",
   "language": "python",
   "name": "python3"
  },
  "language_info": {
   "codemirror_mode": {
    "name": "ipython",
    "version": 3
   },
   "file_extension": ".py",
   "mimetype": "text/x-python",
   "name": "python",
   "nbconvert_exporter": "python",
   "pygments_lexer": "ipython3",
   "version": "3.10.8"
  }
 },
 "nbformat": 4,
 "nbformat_minor": 5
}
